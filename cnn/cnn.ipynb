{
 "cells": [
  {
   "cell_type": "code",
   "execution_count": 15,
   "metadata": {},
   "outputs": [],
   "source": [
    "import tensorflow as tf\n",
    "from scipy.misc import imread\n",
    "import numpy as np\n",
    "import os\n",
    "from PIL import Image\n",
    "import itertools\n",
    "import time"
   ]
  },
  {
   "cell_type": "code",
   "execution_count": 16,
   "metadata": {},
   "outputs": [],
   "source": [
    "classes = [\"Benign\", \"InSitu\", \"Invasive\", \"Normal\"]\n",
    "dataset_path = os.path.join(os.path.pardir, 'dataset')\n",
    "N_c = 50\n",
    "N = N_c*4\n",
    "width = 2048\n",
    "height = 1536\n",
    "rgb_channel = 3\n",
    "\n",
    "dataset = np.ndarray([N, height, width, rgb_channel])"
   ]
  },
  {
   "cell_type": "code",
   "execution_count": 17,
   "metadata": {},
   "outputs": [
    {
     "name": "stdout",
     "output_type": "stream",
     "text": [
      "../dataset/Benign/* ... loaded\n",
      "../dataset/InSitu/* ... loaded\n",
      "../dataset/Invasive/* ... loaded\n",
      "../dataset/Normal/* ... loaded\n",
      "26.396467208862305\n"
     ]
    }
   ],
   "source": [
    "start_time = time.time()\n",
    "for i, class_name in enumerate(classes):\n",
    "    path = os.path.join(dataset_path, class_name)\n",
    "    files = os.listdir(path)\n",
    "    for j, img_name in enumerate(files):\n",
    "        if j < N_c:\n",
    "            im = Image.open(path + \"/\" + img_name)\n",
    "            imarray = np.array(im)\n",
    "            dataset[i*N_c + j] = imarray\n",
    "    print(path + \"/*\", \"... loaded\")\n",
    "end_time = time.time()\n",
    "run_time = end_time-start_time\n",
    "print(run_time)"
   ]
  },
  {
   "cell_type": "code",
   "execution_count": 18,
   "metadata": {},
   "outputs": [
    {
     "data": {
      "text/plain": [
       "'\\nstart_time = time.time()\\nnp.save(\"dataset.npy\", dataset)\\nend_time = time.time()\\nrun_time = end_time-start_time\\nprint(run_time)\\n\\nstart_time = time.time()\\ndataset = np.load(\"dataset.npy\")\\nend_time = time.time()\\nrun_time = end_time-start_time\\nprint(run_time)\\n'"
      ]
     },
     "execution_count": 18,
     "metadata": {},
     "output_type": "execute_result"
    }
   ],
   "source": [
    "'''\n",
    "start_time = time.time()\n",
    "np.save(\"dataset.npy\", dataset)\n",
    "end_time = time.time()\n",
    "run_time = end_time-start_time\n",
    "print(run_time)\n",
    "\n",
    "start_time = time.time()\n",
    "dataset = np.load(\"dataset.npy\")\n",
    "end_time = time.time()\n",
    "run_time = end_time-start_time\n",
    "print(run_time)\n",
    "'''"
   ]
  },
  {
   "cell_type": "code",
   "execution_count": 19,
   "metadata": {},
   "outputs": [
    {
     "name": "stdout",
     "output_type": "stream",
     "text": [
      "[ 67 191   0  40 189 146 197  69 104  44  23 173  29 126 182  74   9  52\n",
      "  34 162  24  48 175 183 127  50 102 198 148 141 142 151 128 122  16 135\n",
      " 125  53  14 177 134  66  49  71  15  19 120  56 110  59 165  47  79  45\n",
      "  91 111  18 161  80  28  85 147 109 103 187  68 166 154 164 185 136  78\n",
      "  46   8  54  75  25 143 124 172  12  89  87 149 139 145 158  36  95 159\n",
      "  99  92 117  55 193 119  11 114 199 133  86 152  27 181 180  20 179  21\n",
      " 168  84  35 196 194  98 107 163 105  64  32 140 129  90  62  57  97   6\n",
      "  37   4  63   5 170  61 155 144  73 174 192  82  81  42 132 167 123  60\n",
      "  70  41 137 118  39 188 178 131  76 176 113  38 116  10 156  17  22  65\n",
      " 100 130  30 195 121   3   7 153  83 169  43 186 101  93 190  26  88 150\n",
      " 160 106 138   2  31 157  58  77 115   1 171  13  51 112  33  96 184 108\n",
      "  94  72]\n"
     ]
    }
   ],
   "source": [
    "#np.random.shuffle(dataset)\n",
    "index_permutation = np.array(range(N))\n",
    "np.random.shuffle(index_permutation)\n",
    "print(index_permutation)"
   ]
  },
  {
   "cell_type": "code",
   "execution_count": 20,
   "metadata": {},
   "outputs": [
    {
     "ename": "MemoryError",
     "evalue": "",
     "output_type": "error",
     "traceback": [
      "\u001b[0;31m---------------------------------------------------------------------------\u001b[0m",
      "\u001b[0;31mMemoryError\u001b[0m                               Traceback (most recent call last)",
      "\u001b[0;32m<ipython-input-20-7a51128d7304>\u001b[0m in \u001b[0;36m<module>\u001b[0;34m()\u001b[0m\n\u001b[1;32m      3\u001b[0m \u001b[0mn_test\u001b[0m \u001b[0;34m=\u001b[0m \u001b[0mint\u001b[0m\u001b[0;34m(\u001b[0m\u001b[0;36m.1\u001b[0m \u001b[0;34m*\u001b[0m \u001b[0mN\u001b[0m\u001b[0;34m)\u001b[0m\u001b[0;34m\u001b[0m\u001b[0m\n\u001b[1;32m      4\u001b[0m \u001b[0;34m\u001b[0m\u001b[0m\n\u001b[0;32m----> 5\u001b[0;31m \u001b[0mtraining_set\u001b[0m \u001b[0;34m=\u001b[0m \u001b[0mdataset\u001b[0m\u001b[0;34m[\u001b[0m\u001b[0mindex_permutation\u001b[0m\u001b[0;34m[\u001b[0m\u001b[0;36m0\u001b[0m\u001b[0;34m:\u001b[0m\u001b[0mn_training\u001b[0m\u001b[0;34m]\u001b[0m\u001b[0;34m]\u001b[0m\u001b[0;34m\u001b[0m\u001b[0m\n\u001b[0m\u001b[1;32m      6\u001b[0m \u001b[0mvalidation_set\u001b[0m \u001b[0;34m=\u001b[0m \u001b[0mdataset\u001b[0m\u001b[0;34m[\u001b[0m\u001b[0mindex_permutation\u001b[0m\u001b[0;34m[\u001b[0m\u001b[0mn_training\u001b[0m\u001b[0;34m:\u001b[0m\u001b[0mn_training\u001b[0m\u001b[0;34m+\u001b[0m\u001b[0mn_validation\u001b[0m\u001b[0;34m]\u001b[0m\u001b[0;34m]\u001b[0m\u001b[0;34m\u001b[0m\u001b[0m\n\u001b[1;32m      7\u001b[0m \u001b[0mtest_set\u001b[0m \u001b[0;34m=\u001b[0m \u001b[0mdataset\u001b[0m\u001b[0;34m[\u001b[0m\u001b[0mindex_permutation\u001b[0m\u001b[0;34m[\u001b[0m\u001b[0mn_training\u001b[0m\u001b[0;34m+\u001b[0m\u001b[0mn_validation\u001b[0m\u001b[0;34m:\u001b[0m\u001b[0mn_training\u001b[0m\u001b[0;34m+\u001b[0m\u001b[0mn_validation\u001b[0m\u001b[0;34m+\u001b[0m\u001b[0mn_test\u001b[0m\u001b[0;34m]\u001b[0m\u001b[0;34m]\u001b[0m\u001b[0;34m\u001b[0m\u001b[0m\n",
      "\u001b[0;31mMemoryError\u001b[0m: "
     ]
    }
   ],
   "source": [
    "n_training = int(.8 * N)\n",
    "n_validation = int(.1 * N)\n",
    "n_test = int(.1 * N)\n",
    "\n",
    "training_set = dataset[index_permutation[0:n_training]]\n",
    "validation_set = dataset[index_permutation[n_training:n_training+n_validation]]\n",
    "test_set = dataset[index_permutation[n_training+n_validation:n_training+n_validation+n_test]]\n",
    "\n",
    "print(training_set.shape)\n",
    "print(validation_set.shape)\n",
    "print(test_set.shape)"
   ]
  },
  {
   "cell_type": "code",
   "execution_count": null,
   "metadata": {},
   "outputs": [],
   "source": []
  }
 ],
 "metadata": {
  "kernelspec": {
   "display_name": "tensorflowCPU",
   "language": "python",
   "name": "tensorflowcpu"
  },
  "language_info": {
   "codemirror_mode": {
    "name": "ipython",
    "version": 3
   },
   "file_extension": ".py",
   "mimetype": "text/x-python",
   "name": "python",
   "nbconvert_exporter": "python",
   "pygments_lexer": "ipython3",
   "version": "3.5.3"
  }
 },
 "nbformat": 4,
 "nbformat_minor": 1
}
